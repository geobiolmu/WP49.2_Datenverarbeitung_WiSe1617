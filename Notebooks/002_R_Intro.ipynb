{
 "cells": [
  {
   "cell_type": "markdown",
   "metadata": {},
   "source": [
    "#Describing data (cont.)\n",
    "\n",
    "In our last notebook, I guided you through different ways in which you can describe your data using **R**.\n",
    "\n",
    "In this notebook, I will introduce two different topics:\n",
    "    * more graphs\n",
    "    * R packages\n",
    "\n",
    "In the previous notebook we experimented a little bit with histograms, using the method *hist()*. In this notebook we will go a bit further and learn about other graphs that come handy when working with data.\n",
    "\n",
    "We first need to load some data into **R**"
   ]
  },
  {
   "cell_type": "code",
   "execution_count": 1,
   "metadata": {
    "collapsed": true
   },
   "outputs": [],
   "source": [
    "spiderAmputation<-read.csv(\"~/Repos/WP49_2_Datenverarbeitung_WiSe1617/Data/chap03e2SpiderAmputation.csv\")"
   ]
  },
  {
   "cell_type": "markdown",
   "metadata": {},
   "source": [
    "If you inspect the data with *head* it looks like this:"
   ]
  },
  {
   "cell_type": "code",
   "execution_count": 2,
   "metadata": {
    "collapsed": false
   },
   "outputs": [
    {
     "data": {
      "text/html": [
       "<table>\n",
       "<thead><tr><th scope=col>spider</th><th scope=col>speed</th><th scope=col>treatment</th></tr></thead>\n",
       "<tbody>\n",
       "\t<tr><td>1     </td><td>1.25  </td><td>before</td></tr>\n",
       "\t<tr><td>2     </td><td>2.94  </td><td>before</td></tr>\n",
       "\t<tr><td>3     </td><td>2.38  </td><td>before</td></tr>\n",
       "\t<tr><td>4     </td><td>3.09  </td><td>before</td></tr>\n",
       "\t<tr><td>5     </td><td>3.41  </td><td>before</td></tr>\n",
       "\t<tr><td>6     </td><td>3.00  </td><td>before</td></tr>\n",
       "</tbody>\n",
       "</table>\n"
      ],
      "text/latex": [
       "\\begin{tabular}{r|lll}\n",
       " spider & speed & treatment\\\\\n",
       "\\hline\n",
       "\t 1      & 1.25   & before\\\\\n",
       "\t 2      & 2.94   & before\\\\\n",
       "\t 3      & 2.38   & before\\\\\n",
       "\t 4      & 3.09   & before\\\\\n",
       "\t 5      & 3.41   & before\\\\\n",
       "\t 6      & 3.00   & before\\\\\n",
       "\\end{tabular}\n"
      ],
      "text/plain": [
       "  spider speed treatment\n",
       "1 1      1.25  before   \n",
       "2 2      2.94  before   \n",
       "3 3      2.38  before   \n",
       "4 4      3.09  before   \n",
       "5 5      3.41  before   \n",
       "6 6      3.00  before   "
      ]
     },
     "metadata": {},
     "output_type": "display_data"
    }
   ],
   "source": [
    "head(spiderAmputation)"
   ]
  },
  {
   "cell_type": "markdown",
   "metadata": {},
   "source": [
    "We can see that the table contains three variables:\n",
    "\n",
    "    - spider\n",
    "    - speed\n",
    "    - treatment\n",
    "\n",
    "we have no metadata for this dataset but we can deduce what happened from the name of the file and the name of the columns. And this is why it is so **important to give appropriate names to both files and variables when working with data!**\n",
    "\n",
    "So, we are going to assume that a researcher took some spiders, cut one or more legs and measure the speed before and after the *treatment*.\n",
    "\n",
    "We are interested in describing the results he obtained, and maybe testing whether the *treatment* had an effect on the speed of the spiders or not.\n",
    "\n",
    "Just to see what happens, we use the method *summary()* on our dataset"
   ]
  },
  {
   "cell_type": "code",
   "execution_count": 3,
   "metadata": {
    "collapsed": false
   },
   "outputs": [
    {
     "data": {
      "text/plain": [
       "     spider          speed        treatment \n",
       " Min.   : 1.00   Min.   :1.250   after :16  \n",
       " 1st Qu.: 4.75   1st Qu.:2.730   before:16  \n",
       " Median : 8.50   Median :3.195              \n",
       " Mean   : 8.50   Mean   :3.261              \n",
       " 3rd Qu.:12.25   3rd Qu.:3.527              \n",
       " Max.   :16.00   Max.   :5.450              "
      ]
     },
     "metadata": {},
     "output_type": "display_data"
    }
   ],
   "source": [
    "summary(spiderAmputation)"
   ]
  },
  {
   "cell_type": "markdown",
   "metadata": {},
   "source": [
    "I hope you see a difference between the columns.\n",
    "\n",
    "If you don't, I'll tell you that the column *spider* is just an identifier for the spider used, *speed* is the actual measurement conducted and *treatment* is the experimental condition under which the spider was allowed to run.\n",
    "\n",
    "We call the variable *treatment* a **factor** and the two possibilities, i.e. *after* and *before* (amputation), its **levels**. In statistical jargon we say we have a factor with two levels. It is really important that you learn how to read a dataset to determine which are the factors in it and how many levels they have because this will determine how you analyze the dataset.\n",
    "\n",
    "In this experiment, which is very simple, we have one *independent variable* (this is another way to refer to factors) that we think affects the outcome of a *response variable*, speed in this case.\n",
    "\n",
    "The rational of the experiment maybe was:\n",
    "\n",
    "    - We observed that when spiders are injured they tend to be really fast, faster than when they are not injured and hypothesize that amputation causes a change in the speed with which a spider moves a give distance. We design an experiment to falsify or corroborate our hypothesis, gather data and now we need to analyze the data.\n",
    "    \n",
    "Because we only have one *response variable*, and in general we only analyze one *response variable* at a time, we want to start describing this variable using all the tools we learned already in our previous notebook.\n",
    "\n",
    "**Exercise**\n",
    "\n",
    "    1. What is the *Mean and Standard deviation* of the speed with which the spiders moved during the experiment?\n",
    "    \n",
    "    2. How does the histogram of the variable speed looks like?"
   ]
  },
  {
   "cell_type": "code",
   "execution_count": 5,
   "metadata": {
    "collapsed": false
   },
   "outputs": [
    {
     "data": {
      "text/html": [
       "3.2609375"
      ],
      "text/latex": [
       "3.2609375"
      ],
      "text/markdown": [
       "3.2609375"
      ],
      "text/plain": [
       "[1] 3.260937"
      ]
     },
     "metadata": {},
     "output_type": "display_data"
    }
   ],
   "source": [
    "mean(spiderAmputation$speed)"
   ]
  },
  {
   "cell_type": "code",
   "execution_count": 6,
   "metadata": {
    "collapsed": false
   },
   "outputs": [
    {
     "data": {
      "text/html": [
       "1.01915955056906"
      ],
      "text/latex": [
       "1.01915955056906"
      ],
      "text/markdown": [
       "1.01915955056906"
      ],
      "text/plain": [
       "[1] 1.01916"
      ]
     },
     "metadata": {},
     "output_type": "display_data"
    }
   ],
   "source": [
    "sd(spiderAmputation$speed)"
   ]
  },
  {
   "cell_type": "code",
   "execution_count": 7,
   "metadata": {
    "collapsed": false
   },
   "outputs": [
    {
     "data": {
      "image/png": "[encoded data removed]",
      "text/plain": [
       "Plot with title “Histogram of spiderAmputation$speed”"
      ]
     },
     "metadata": {},
     "output_type": "display_data"
    }
   ],
   "source": [
    "hist(spiderAmputation$speed)"
   ]
  },
  {
   "cell_type": "markdown",
   "metadata": {},
   "source": [
    "When you use the method *hist()*, **R** will take the name of the variable and will use it as the label of the x-axis. In addition, it will use it to produce a title above the figure. In general, figures should be label with a legend that goes **after** the figure, not before, above or elsewhere. We can tell the method *hist()* to use a specific label for the x-axis or to print a specific title if we *pass* the text we want using different options provided by the method *hist()*.\n",
    "\n",
    "A comprehensive list of all options accepted by *hist()* can be found typing *?hist*."
   ]
  },
  {
   "cell_type": "code",
   "execution_count": 8,
   "metadata": {
    "collapsed": false
   },
   "outputs": [
    {
     "data": {
      "image/png": "[encoded data removed]",
      "text/plain": [
       "Plot with title “”"
      ]
     },
     "metadata": {},
     "output_type": "display_data"
    }
   ],
   "source": [
    "hist(spiderAmputation$speed, xlab=\"My new x-axis label\", main=\"\")"
   ]
  },
  {
   "cell_type": "markdown",
   "metadata": {},
   "source": [
    "Note that I just passed an empty string (of characters) as the main title of my histogram!\n",
    "\n",
    "So far so good, but what are the problems with this graph? A clue, we had an independent variable somewhere. So, is it correct to just ignore that and pool all the data to report a summary or visualize it? In case you want to check the levels of a factor, you can call the method *levels()* on it."
   ]
  },
  {
   "cell_type": "code",
   "execution_count": 10,
   "metadata": {
    "collapsed": false
   },
   "outputs": [
    {
     "data": {
      "text/html": [
       "<ol class=list-inline>\n",
       "\t<li>'after'</li>\n",
       "\t<li>'before'</li>\n",
       "</ol>\n"
      ],
      "text/latex": [
       "\\begin{enumerate*}\n",
       "\\item 'after'\n",
       "\\item 'before'\n",
       "\\end{enumerate*}\n"
      ],
      "text/markdown": [
       "1. 'after'\n",
       "2. 'before'\n",
       "\n",
       "\n"
      ],
      "text/plain": [
       "[1] \"after\"  \"before\""
      ]
     },
     "metadata": {},
     "output_type": "display_data"
    }
   ],
   "source": [
    "levels(spiderAmputation$treatment)"
   ]
  },
  {
   "cell_type": "markdown",
   "metadata": {},
   "source": [
    "So, what to do?"
   ]
  }
 ],
 "metadata": {
  "kernelspec": {
   "display_name": "R",
   "language": "R",
   "name": "ir"
  },
  "language_info": {
   "codemirror_mode": "r",
   "file_extension": ".r",
   "mimetype": "text/x-r-source",
   "name": "R",
   "pygments_lexer": "r",
   "version": "3.2.2"
  }
 },
 "nbformat": 4,
 "nbformat_minor": 1
}
